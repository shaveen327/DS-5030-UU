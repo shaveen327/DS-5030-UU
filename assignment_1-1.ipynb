{
 "cells": [
  {
   "cell_type": "markdown",
   "id": "87b91d83",
   "metadata": {},
   "source": [
    "# Assignment 1\n",
    "### Understanding Uncertainty\n",
    "### Due 9/5"
   ]
  },
  {
   "cell_type": "markdown",
   "id": "380e339f",
   "metadata": {},
   "source": [
    "1. Create a new public repo on Github under your account. Include a readme file.\n",
    "2. Clone it to your machine. Put this file into that repo.\n",
    "3. Use the following function to download the example data for the course:"
   ]
  },
  {
   "cell_type": "code",
   "execution_count": 1,
   "id": "2d62b4f6",
   "metadata": {},
   "outputs": [
    {
     "name": "stdout",
     "output_type": "stream",
     "text": [
      "Downloading course data\n",
      "Download complete\n",
      "Extracting data files...\n",
      "Data extracted\n"
     ]
    }
   ],
   "source": [
    "def download_data(force=False):\n",
    "    \"\"\"Download and extract course data from Zenodo.\"\"\"\n",
    "    import urllib.request, zipfile, os\n",
    "    \n",
    "    zip_path = 'data.zip'\n",
    "    data_dir = 'data'\n",
    "    \n",
    "    if not os.path.exists(zip_path) or force:\n",
    "        print(\"Downloading course data\")\n",
    "        urllib.request.urlretrieve(\n",
    "            'https://zenodo.org/records/16954427/files/data.zip?download=1',\n",
    "            zip_path\n",
    "        )\n",
    "        print(\"Download complete\")\n",
    "    else:\n",
    "        print(\"Download file already exists\")\n",
    "        \n",
    "    if not os.path.exists(data_dir) or force:\n",
    "        print(\"Extracting data files...\")\n",
    "        with zipfile.ZipFile(zip_path, 'r') as zip_ref:\n",
    "            zip_ref.extractall(data_dir)\n",
    "        print(\"Data extracted\")\n",
    "    else:\n",
    "        print(\"Data directory already exists\")\n",
    "\n",
    "download_data()"
   ]
  },
  {
   "cell_type": "markdown",
   "id": "01db0045",
   "metadata": {},
   "source": [
    "4. Open one of the datasets using Pandas:\n",
    "    1. `ames_prices.csv`: Housing characteristics and prices\n",
    "    2. `college_completion.csv`: Public, nonprofit, and for-profit educational institutions, graduation rates, and financial aid\n",
    "    3. `ForeignGifts_edu.csv`: Monetary and in-kind transfers from foreign entities to U.S. educational institutions\n",
    "    4. `iowa.csv`: Liquor sales in Iowa, at the transaction level\n",
    "    5. `metabric.csv`: Cancer patient and outcome data\n",
    "    6. `mn_police_use_of_force.csv`: Records of physical altercations between Minnessota police and private citizens\n",
    "    7. `nhanes_data_17_18.csv`: National Health and Nutrition Examination Survey\n",
    "    8. `tuna.csv`: Yellowfin Tuna Genome (I don't recommend this one; it's just a sequence of G, C, A, T )\n",
    "    9. `va_procurement.csv`: Public spending by the state of Virginia"
   ]
  },
  {
   "cell_type": "code",
   "execution_count": 9,
   "id": "6bc1e03a",
   "metadata": {},
   "outputs": [
    {
     "name": "stderr",
     "output_type": "stream",
     "text": [
      "/var/folders/wr/66f4zf893q541yt3pc0dq3_00000gn/T/ipykernel_30392/19804759.py:2: DtypeWarning: Columns (142) have mixed types. Specify dtype option on import or set low_memory=False.\n",
      "  health = pd.read_csv('/Users/shaveen/DS 5030 Assignments/data/nhanes_data_17_18.csv')\n"
     ]
    },
    {
     "data": {
      "application/vnd.microsoft.datawrangler.viewer.v0+json": {
       "columns": [
        {
         "name": "index",
         "rawType": "int64",
         "type": "integer"
        },
        {
         "name": "SEQN",
         "rawType": "float64",
         "type": "float"
        },
        {
         "name": "GeneralHealthCondition",
         "rawType": "object",
         "type": "unknown"
        },
        {
         "name": "EverBreastfedOrFedBreastmilk",
         "rawType": "float64",
         "type": "float"
        },
        {
         "name": "AgeStoppedBreastfeedingdays",
         "rawType": "float64",
         "type": "float"
        },
        {
         "name": "AgeFirstFedFormuladays",
         "rawType": "float64",
         "type": "float"
        },
        {
         "name": "AgeStoppedReceivingFormuladays",
         "rawType": "float64",
         "type": "float"
        },
        {
         "name": "AgeStartedOtherFoodbeverage",
         "rawType": "float64",
         "type": "float"
        },
        {
         "name": "AgeFirstFedMilkdays",
         "rawType": "float64",
         "type": "float"
        },
        {
         "name": "TypeOfMilkFirstFedWholeMilk",
         "rawType": "object",
         "type": "unknown"
        },
        {
         "name": "TypeOfMilkFirstFed2Milk",
         "rawType": "float64",
         "type": "float"
        },
        {
         "name": "TypeOfMilkFirstFed1Milk",
         "rawType": "float64",
         "type": "float"
        },
        {
         "name": "TypeOfMilkFirstFedFatFreeMilk",
         "rawType": "float64",
         "type": "float"
        },
        {
         "name": "TypeOfMilkFirstFedSoyMilk",
         "rawType": "float64",
         "type": "float"
        },
        {
         "name": "TypeOfMilkFirstFedOther",
         "rawType": "float64",
         "type": "float"
        },
        {
         "name": "HowHealthyIsTheDiet",
         "rawType": "object",
         "type": "unknown"
        },
        {
         "name": "Past30DayMilkProductConsumption",
         "rawType": "object",
         "type": "string"
        },
        {
         "name": "YouDrinkWholeOrRegularMilk",
         "rawType": "object",
         "type": "unknown"
        },
        {
         "name": "YouDrink2FatMilk",
         "rawType": "float64",
         "type": "float"
        },
        {
         "name": "YouDrink1FatMilk",
         "rawType": "float64",
         "type": "float"
        },
        {
         "name": "YouDrinkFatFreeskimMilk",
         "rawType": "float64",
         "type": "float"
        },
        {
         "name": "YouDrinkSoyMilk",
         "rawType": "float64",
         "type": "float"
        },
        {
         "name": "YouDrinkAnotherTypeOfMilk",
         "rawType": "float64",
         "type": "float"
        },
        {
         "name": "RegularMilkUse5TimesPerWeek",
         "rawType": "object",
         "type": "unknown"
        },
        {
         "name": "HowOftenDrankMilkAge512",
         "rawType": "object",
         "type": "unknown"
        },
        {
         "name": "HowOftenDrankMilkAge1317",
         "rawType": "object",
         "type": "unknown"
        },
        {
         "name": "HowOftenDrankMilkAge1835",
         "rawType": "object",
         "type": "unknown"
        },
        {
         "name": "CommunitygovernmentMealsDelivered",
         "rawType": "float64",
         "type": "float"
        },
        {
         "name": "EatMealsAtCommunityseniorCenter",
         "rawType": "float64",
         "type": "float"
        },
        {
         "name": "AttendKindergartenThruHighSchool",
         "rawType": "float64",
         "type": "float"
        },
        {
         "name": "SchoolServesSchoolLunches",
         "rawType": "float64",
         "type": "float"
        },
        {
         "name": "OfTimesweekGetSchoolLunch",
         "rawType": "float64",
         "type": "float"
        },
        {
         "name": "SchoolLunchFreeReducedOrFullPrice",
         "rawType": "object",
         "type": "unknown"
        },
        {
         "name": "SchoolServeCompleteBreakfastEachDay",
         "rawType": "float64",
         "type": "float"
        },
        {
         "name": "OfTimesweekGetSchoolBreakfast",
         "rawType": "float64",
         "type": "float"
        },
        {
         "name": "SchoolBreakfastFreereducedfullPrice",
         "rawType": "object",
         "type": "unknown"
        },
        {
         "name": "SummerProgramMealFreereducedPrice",
         "rawType": "object",
         "type": "unknown"
        },
        {
         "name": "OfMealsNotHomePrepared",
         "rawType": "float64",
         "type": "float"
        },
        {
         "name": "OfMealsFromFastFoodOrPizzaPlace",
         "rawType": "float64",
         "type": "float"
        },
        {
         "name": "OfReadytoeatFoodsInPast30Days",
         "rawType": "float64",
         "type": "float"
        },
        {
         "name": "OfFrozenMealspizzaInPast30Days",
         "rawType": "float64",
         "type": "float"
        },
        {
         "name": "HeardOfMyPlate",
         "rawType": "float64",
         "type": "float"
        },
        {
         "name": "LookedUpMyPlateOnInternet",
         "rawType": "float64",
         "type": "float"
        },
        {
         "name": "TriedMyPlatePlan",
         "rawType": "float64",
         "type": "float"
        },
        {
         "name": "MainMealPlannerpreparer",
         "rawType": "float64",
         "type": "float"
        },
        {
         "name": "SharedMealPlanningpreparingDuty",
         "rawType": "float64",
         "type": "float"
        },
        {
         "name": "MainFoodShopper",
         "rawType": "float64",
         "type": "float"
        },
        {
         "name": "SharedFoodShoppingDuty",
         "rawType": "float64",
         "type": "float"
        },
        {
         "name": "HaveSeriousDifficultyHearing",
         "rawType": "float64",
         "type": "float"
        },
        {
         "name": "HaveSeriousDifficultySeeing",
         "rawType": "float64",
         "type": "float"
        },
        {
         "name": "HaveSeriousDifficultyConcentrating",
         "rawType": "float64",
         "type": "float"
        },
        {
         "name": "HaveSeriousDifficultyWalking",
         "rawType": "float64",
         "type": "float"
        },
        {
         "name": "HaveDifficultyDressingOrBathing",
         "rawType": "float64",
         "type": "float"
        },
        {
         "name": "HaveDifficultyDoingErrandsAlone",
         "rawType": "float64",
         "type": "float"
        },
        {
         "name": "HowOftenDoYouFeelWorriedOrAnxious",
         "rawType": "float64",
         "type": "float"
        },
        {
         "name": "TakeMedicationForTheseFeelings",
         "rawType": "float64",
         "type": "float"
        },
        {
         "name": "HowOftenDoYouFeelDepressed",
         "rawType": "float64",
         "type": "float"
        },
        {
         "name": "TakeMedicationForDepression",
         "rawType": "float64",
         "type": "float"
        },
        {
         "name": "CoveredByHealthInsurance",
         "rawType": "float64",
         "type": "float"
        },
        {
         "name": "UsualSleepTimeOnWeekdaysOrWorkdays",
         "rawType": "object",
         "type": "unknown"
        },
        {
         "name": "UsualWakeTimeOnWeekdaysOrWorkdays",
         "rawType": "object",
         "type": "unknown"
        },
        {
         "name": "SleepHoursWeekdaysOrWorkdays",
         "rawType": "float64",
         "type": "float"
        },
        {
         "name": "HowOftenDoYouSnore",
         "rawType": "object",
         "type": "unknown"
        },
        {
         "name": "EverToldDoctorHadTroubleSleeping",
         "rawType": "float64",
         "type": "float"
        },
        {
         "name": "HowOftenFeelOverlySleepyDuringDay",
         "rawType": "object",
         "type": "unknown"
        },
        {
         "name": "HaveLittleInterestInDoingThings",
         "rawType": "float64",
         "type": "float"
        },
        {
         "name": "FeelingDownDepressedOrHopeless",
         "rawType": "float64",
         "type": "float"
        },
        {
         "name": "TroubleSleepingOrSleepingTooMuch",
         "rawType": "float64",
         "type": "float"
        },
        {
         "name": "FeelingTiredOrHavingLittleEnergy",
         "rawType": "float64",
         "type": "float"
        },
        {
         "name": "PoorAppetiteOrOvereating",
         "rawType": "float64",
         "type": "float"
        },
        {
         "name": "FeelingBadAboutYourself",
         "rawType": "float64",
         "type": "float"
        },
        {
         "name": "TroubleConcentratingOnThings",
         "rawType": "float64",
         "type": "float"
        },
        {
         "name": "MovingOrSpeakingSlowlyOrTooFast",
         "rawType": "float64",
         "type": "float"
        },
        {
         "name": "ThoughtYouWouldBeBetterOffDead",
         "rawType": "float64",
         "type": "float"
        },
        {
         "name": "DifficultyTheseProblemsHaveCaused",
         "rawType": "object",
         "type": "unknown"
        },
        {
         "name": "SmokedTobaccoLast5Days",
         "rawType": "float64",
         "type": "float"
        },
        {
         "name": "DaysSmokedCigarettesLast5Days",
         "rawType": "float64",
         "type": "float"
        },
        {
         "name": "CigarettesSmokedPerDay",
         "rawType": "float64",
         "type": "float"
        },
        {
         "name": "UsedAnyTobaccoProductLast5Days",
         "rawType": "float64",
         "type": "float"
        },
        {
         "name": "ExperienceConfusionmemoryProblems",
         "rawType": "float64",
         "type": "float"
        },
        {
         "name": "PhysicalMentalEmotionalLimitations",
         "rawType": "float64",
         "type": "float"
        },
        {
         "name": "DifficultyManagingMoney",
         "rawType": "object",
         "type": "unknown"
        },
        {
         "name": "60SecHr30SecHr2",
         "rawType": "float64",
         "type": "float"
        },
        {
         "name": "60SecPulse30SecPulse2",
         "rawType": "float64",
         "type": "float"
        },
        {
         "name": "SystolicBloodPres1StRdgMmHg",
         "rawType": "float64",
         "type": "float"
        },
        {
         "name": "DiastolicBloodPres1StRdgMmHg",
         "rawType": "float64",
         "type": "float"
        },
        {
         "name": "SystolicBloodPres2NdRdgMmHg",
         "rawType": "float64",
         "type": "float"
        },
        {
         "name": "DiastolicBloodPres2NdRdgMmHg",
         "rawType": "float64",
         "type": "float"
        },
        {
         "name": "SystolicBloodPres3RdRdgMmHg",
         "rawType": "float64",
         "type": "float"
        },
        {
         "name": "DiastolicBloodPres3RdRdgMmHg",
         "rawType": "float64",
         "type": "float"
        },
        {
         "name": "EnergyKcal_DR2TOT",
         "rawType": "float64",
         "type": "float"
        },
        {
         "name": "ProteinGm_DR2TOT",
         "rawType": "float64",
         "type": "float"
        },
        {
         "name": "CarbohydrateGm_DR2TOT",
         "rawType": "float64",
         "type": "float"
        },
        {
         "name": "TotalSugarsGm_DR2TOT",
         "rawType": "float64",
         "type": "float"
        },
        {
         "name": "DietaryFiberGm_DR2TOT",
         "rawType": "float64",
         "type": "float"
        },
        {
         "name": "TotalFatGm_DR2TOT",
         "rawType": "float64",
         "type": "float"
        },
        {
         "name": "TotalSaturatedFattyAcidsGm_DR2TOT",
         "rawType": "float64",
         "type": "float"
        },
        {
         "name": "TotalMonounsaturatedFattyAcidsGm_DR2TOT",
         "rawType": "float64",
         "type": "float"
        },
        {
         "name": "TotalPolyunsaturatedFattyAcidsGm_DR2TOT",
         "rawType": "float64",
         "type": "float"
        },
        {
         "name": "CholesterolMg_DR2TOT",
         "rawType": "float64",
         "type": "float"
        },
        {
         "name": "AlcoholGm_DR2TOT",
         "rawType": "float64",
         "type": "float"
        },
        {
         "name": "WeightKg",
         "rawType": "float64",
         "type": "float"
        },
        {
         "name": "RecumbentLengthCm",
         "rawType": "float64",
         "type": "float"
        },
        {
         "name": "StandingHeightCm",
         "rawType": "float64",
         "type": "float"
        },
        {
         "name": "BodyMassIndexKgm2",
         "rawType": "float64",
         "type": "float"
        },
        {
         "name": "WaistCircumferenceCm",
         "rawType": "float64",
         "type": "float"
        },
        {
         "name": "DirectHdlcholesterolMgdl",
         "rawType": "float64",
         "type": "float"
        },
        {
         "name": "TotalCholesterolMgdl",
         "rawType": "float64",
         "type": "float"
        },
        {
         "name": "VigorousWorkActivity",
         "rawType": "float64",
         "type": "float"
        },
        {
         "name": "ModerateWorkActivity",
         "rawType": "float64",
         "type": "float"
        },
        {
         "name": "WalkOrBicycle",
         "rawType": "float64",
         "type": "float"
        },
        {
         "name": "VigorousRecreationalActivities",
         "rawType": "float64",
         "type": "float"
        },
        {
         "name": "ModerateRecreationalActivities",
         "rawType": "float64",
         "type": "float"
        },
        {
         "name": "MinutesSedentaryActivity",
         "rawType": "float64",
         "type": "float"
        },
        {
         "name": "EverBeenToldYouHaveAsthma",
         "rawType": "float64",
         "type": "float"
        },
        {
         "name": "DoctorEverSaidYouHadArthritis",
         "rawType": "float64",
         "type": "float"
        },
        {
         "name": "EverToldYouHadHeartAttack",
         "rawType": "float64",
         "type": "float"
        },
        {
         "name": "AgeWhenToldYouHadHeartAttack",
         "rawType": "float64",
         "type": "float"
        },
        {
         "name": "EverToldYouHadAStroke",
         "rawType": "float64",
         "type": "float"
        },
        {
         "name": "AgeWhenToldYouHadAStroke",
         "rawType": "float64",
         "type": "float"
        },
        {
         "name": "EverToldYouHadCancerOrMalignancy",
         "rawType": "float64",
         "type": "float"
        },
        {
         "name": "1StCancerWhatKindWasIt",
         "rawType": "float64",
         "type": "float"
        },
        {
         "name": "Age1StCancerMcq230ADiagnosed",
         "rawType": "float64",
         "type": "float"
        },
        {
         "name": "EverUsedMarijuanaOrHashish",
         "rawType": "float64",
         "type": "float"
        },
        {
         "name": "DaysUsedMarijuanaOrHashishmonth",
         "rawType": "float64",
         "type": "float"
        },
        {
         "name": "EverUsedCocaineheroinmethamphetamine",
         "rawType": "float64",
         "type": "float"
        },
        {
         "name": "EverUseAnyFormOfCocaine",
         "rawType": "float64",
         "type": "float"
        },
        {
         "name": "OfDaysUsedCocainemonth",
         "rawType": "float64",
         "type": "float"
        },
        {
         "name": "EverUsedHeroin",
         "rawType": "float64",
         "type": "float"
        },
        {
         "name": "OfDaysUsedHeroinmonth",
         "rawType": "float64",
         "type": "float"
        },
        {
         "name": "EverUsedMethamphetamine",
         "rawType": "float64",
         "type": "float"
        },
        {
         "name": "DaysUsedMethamphetaminemonth",
         "rawType": "float64",
         "type": "float"
        },
        {
         "name": "EverBeenInRehabilitationProgram",
         "rawType": "float64",
         "type": "float"
        },
        {
         "name": "BloodLeadUgdl",
         "rawType": "float64",
         "type": "float"
        },
        {
         "name": "BloodCadmiumUgl",
         "rawType": "float64",
         "type": "float"
        },
        {
         "name": "BloodMercuryTotalUgl",
         "rawType": "float64",
         "type": "float"
        },
        {
         "name": "BloodSeleniumUgl",
         "rawType": "float64",
         "type": "float"
        },
        {
         "name": "BloodManganeseUgl",
         "rawType": "float64",
         "type": "float"
        },
        {
         "name": "Gender",
         "rawType": "object",
         "type": "string"
        },
        {
         "name": "AgeInYearsAtScreening",
         "rawType": "float64",
         "type": "float"
        },
        {
         "name": "AgeInMonthsAtScreening0To24Mos",
         "rawType": "float64",
         "type": "float"
        },
        {
         "name": "RacehispanicOrigin",
         "rawType": "object",
         "type": "string"
        },
        {
         "name": "RacehispanicOriginWNhAsian",
         "rawType": "object",
         "type": "string"
        },
        {
         "name": "ServedActiveDutyInUsArmedForces",
         "rawType": "object",
         "type": "unknown"
        },
        {
         "name": "EducationLevelChildrenyouth619",
         "rawType": "object",
         "type": "unknown"
        },
        {
         "name": "EducationLevelAdults20",
         "rawType": "object",
         "type": "unknown"
        },
        {
         "name": "MaritalStatus",
         "rawType": "object",
         "type": "unknown"
        },
        {
         "name": "TotalNumberOfPeopleInTheHousehold",
         "rawType": "object",
         "type": "string"
        },
        {
         "name": "TotalNumberOfPeopleInTheFamily",
         "rawType": "object",
         "type": "string"
        },
        {
         "name": "OfChildren5YearsOrYoungerInHh",
         "rawType": "object",
         "type": "string"
        },
        {
         "name": "OfChildren617YearsOldInHh",
         "rawType": "object",
         "type": "string"
        },
        {
         "name": "OfAdults60YearsOrOlderInHh",
         "rawType": "object",
         "type": "string"
        },
        {
         "name": "AnnualHouseholdIncome",
         "rawType": "float64",
         "type": "float"
        },
        {
         "name": "AnnualFamilyIncome",
         "rawType": "float64",
         "type": "float"
        },
        {
         "name": "RatioOfFamilyIncomeToPoverty",
         "rawType": "float64",
         "type": "float"
        },
        {
         "name": "TrunkFatG",
         "rawType": "float64",
         "type": "float"
        },
        {
         "name": "TrunkPercentFat",
         "rawType": "float64",
         "type": "float"
        },
        {
         "name": "TotalPercentFat",
         "rawType": "float64",
         "type": "float"
        },
        {
         "name": "HowOftenAddSaltToFoodAtTable",
         "rawType": "object",
         "type": "unknown"
        },
        {
         "name": "OnSpecialDiet",
         "rawType": "float64",
         "type": "float"
        },
        {
         "name": "WeightLosslowCalorieDiet",
         "rawType": "float64",
         "type": "float"
        },
        {
         "name": "LowFatlowCholesterolDiet",
         "rawType": "float64",
         "type": "float"
        },
        {
         "name": "LowSaltlowSodiumDiet",
         "rawType": "float64",
         "type": "float"
        },
        {
         "name": "DiabeticDiet",
         "rawType": "float64",
         "type": "float"
        },
        {
         "name": "LowCarbohydrateDiet",
         "rawType": "float64",
         "type": "float"
        },
        {
         "name": "EnergyKcal_DR1TOT",
         "rawType": "float64",
         "type": "float"
        },
        {
         "name": "ProteinGm_DR1TOT",
         "rawType": "float64",
         "type": "float"
        },
        {
         "name": "CarbohydrateGm_DR1TOT",
         "rawType": "float64",
         "type": "float"
        },
        {
         "name": "TotalSugarsGm_DR1TOT",
         "rawType": "float64",
         "type": "float"
        },
        {
         "name": "DietaryFiberGm_DR1TOT",
         "rawType": "float64",
         "type": "float"
        },
        {
         "name": "TotalFatGm_DR1TOT",
         "rawType": "float64",
         "type": "float"
        },
        {
         "name": "TotalSaturatedFattyAcidsGm_DR1TOT",
         "rawType": "float64",
         "type": "float"
        },
        {
         "name": "TotalMonounsaturatedFattyAcidsGm_DR1TOT",
         "rawType": "float64",
         "type": "float"
        },
        {
         "name": "TotalPolyunsaturatedFattyAcidsGm_DR1TOT",
         "rawType": "float64",
         "type": "float"
        },
        {
         "name": "CholesterolMg_DR1TOT",
         "rawType": "float64",
         "type": "float"
        },
        {
         "name": "AlcoholGm_DR1TOT",
         "rawType": "float64",
         "type": "float"
        },
        {
         "name": "TunaEatenDuringPast30Days",
         "rawType": "float64",
         "type": "float"
        },
        {
         "name": "DoctorToldYouHaveDiabetes",
         "rawType": "object",
         "type": "string"
        },
        {
         "name": "AgeWhenFirstToldYouHadDiabetes",
         "rawType": "float64",
         "type": "float"
        },
        {
         "name": "EverToldYouHavePrediabetes",
         "rawType": "float64",
         "type": "float"
        },
        {
         "name": "EverToldHaveHealthRiskForDiabetes",
         "rawType": "float64",
         "type": "float"
        },
        {
         "name": "FamilyHistory",
         "rawType": "object",
         "type": "unknown"
        },
        {
         "name": "TakingInsulinNow",
         "rawType": "float64",
         "type": "float"
        },
        {
         "name": "TakeDiabeticPillsToLowerBloodSugar",
         "rawType": "float64",
         "type": "float"
        },
        {
         "name": "WhatWasYourLastA1CLevel",
         "rawType": "float64",
         "type": "float"
        },
        {
         "name": "Glycohemoglobin",
         "rawType": "float64",
         "type": "float"
        },
        {
         "name": "SmokedAtLeast100CigarettesInLife",
         "rawType": "float64",
         "type": "float"
        },
        {
         "name": "AgeStartedSmokingCigarettesRegularly",
         "rawType": "float64",
         "type": "float"
        },
        {
         "name": "DoYouNowSmokeCigarettes",
         "rawType": "object",
         "type": "unknown"
        },
        {
         "name": "DaysSmokedCigsDuringPast30Days",
         "rawType": "float64",
         "type": "float"
        },
        {
         "name": "AvgCigarettesdayDuringPast30Days",
         "rawType": "float64",
         "type": "float"
        },
        {
         "name": "TriedToQuitSmoking",
         "rawType": "float64",
         "type": "float"
        },
        {
         "name": "TimesStoppedSmokingCigarettes",
         "rawType": "float64",
         "type": "float"
        },
        {
         "name": "HowLongWereYouAbleToStopSmoking",
         "rawType": "float64",
         "type": "float"
        },
        {
         "name": "UnitOfMeasureDayweekmonthyear_2_SMQ",
         "rawType": "object",
         "type": "unknown"
        },
        {
         "name": "CurrentSelfreportedHeightInches",
         "rawType": "float64",
         "type": "float"
        },
        {
         "name": "CurrentSelfreportedWeightPounds",
         "rawType": "float64",
         "type": "float"
        },
        {
         "name": "TriedToLoseWeightInPastYear",
         "rawType": "float64",
         "type": "float"
        },
        {
         "name": "TimesLost10LbsOrMoreToLoseWeight",
         "rawType": "object",
         "type": "unknown"
        }
       ],
       "ref": "d8da71c1-035c-4c9e-8ddf-c242bc9d0fc6",
       "rows": [
        [
         "0",
         "93703.0",
         null,
         "1.0",
         "273.0",
         "1.0",
         "365.0",
         "152.0",
         "365.0",
         "Whole or regular milk",
         null,
         null,
         null,
         null,
         null,
         null,
         "Often-once a day or more?",
         null,
         null,
         "12.0",
         null,
         null,
         null,
         null,
         null,
         null,
         null,
         null,
         null,
         null,
         null,
         null,
         null,
         null,
         null,
         null,
         null,
         "10.0",
         "5.397605346934028e-79",
         "5.397605346934028e-79",
         "1.0",
         null,
         null,
         null,
         null,
         null,
         null,
         null,
         "0.0",
         "0.0",
         null,
         null,
         null,
         null,
         null,
         null,
         null,
         null,
         "1.0",
         null,
         null,
         null,
         null,
         null,
         null,
         null,
         null,
         null,
         null,
         null,
         null,
         null,
         null,
         null,
         null,
         null,
         null,
         null,
         null,
         null,
         null,
         null,
         "120.0",
         null,
         null,
         null,
         null,
         null,
         null,
         null,
         null,
         null,
         null,
         null,
         null,
         null,
         null,
         null,
         null,
         null,
         null,
         "13.7",
         "89.6",
         "88.6",
         "17.5",
         "48.2",
         null,
         null,
         null,
         null,
         null,
         null,
         null,
         null,
         "0.0",
         null,
         null,
         null,
         null,
         null,
         null,
         null,
         null,
         null,
         null,
         null,
         null,
         null,
         null,
         null,
         null,
         null,
         null,
         null,
         null,
         null,
         null,
         null,
         "Female",
         "2.0",
         null,
         "Other Race - Including Multi-Racial",
         "Non-Hispanic Asian",
         null,
         null,
         null,
         null,
         "5",
         "5",
         "3 or more",
         "0",
         "0",
         "100000.0",
         "100000.0",
         "5.0",
         null,
         null,
         null,
         null,
         null,
         null,
         null,
         null,
         null,
         null,
         null,
         null,
         null,
         null,
         null,
         null,
         null,
         null,
         null,
         null,
         null,
         null,
         "0",
         null,
         null,
         null,
         null,
         "0.0",
         null,
         null,
         null,
         null,
         null,
         null,
         null,
         null,
         null,
         null,
         null,
         null,
         null,
         null,
         null,
         null
        ],
        [
         "1",
         "93704.0",
         null,
         "1.0",
         "60.0",
         "3.0",
         "365.0",
         "126.0",
         "365.0",
         "Whole or regular milk",
         null,
         null,
         null,
         null,
         null,
         null,
         "Sometimes-once a week or more but less than once a day or",
         null,
         null,
         "12.0",
         null,
         null,
         null,
         null,
         null,
         null,
         null,
         null,
         null,
         null,
         null,
         null,
         null,
         null,
         null,
         null,
         null,
         "5.397605346934028e-79",
         null,
         "5.397605346934028e-79",
         "5.397605346934028e-79",
         null,
         null,
         null,
         null,
         null,
         null,
         null,
         "0.0",
         "0.0",
         null,
         null,
         null,
         null,
         null,
         null,
         null,
         null,
         "1.0",
         null,
         null,
         null,
         null,
         null,
         null,
         null,
         null,
         null,
         null,
         null,
         null,
         null,
         null,
         null,
         null,
         null,
         null,
         null,
         null,
         null,
         null,
         null,
         "114.0",
         null,
         null,
         null,
         null,
         null,
         null,
         null,
         "1356.0",
         "30.49",
         "229.69000000000003",
         "134.37",
         "8.2",
         "37.02000000000001",
         "10.368",
         "10.443",
         "13.249",
         "70.0",
         "5.397605346934028e-79",
         "13.9",
         "95.0",
         "94.2",
         "15.7",
         "50.0",
         null,
         null,
         null,
         null,
         null,
         null,
         null,
         null,
         "0.0",
         null,
         null,
         null,
         null,
         null,
         null,
         null,
         null,
         null,
         null,
         null,
         null,
         null,
         null,
         null,
         null,
         null,
         null,
         null,
         "0.07",
         "0.47",
         "142.28",
         "9.41",
         "Male",
         "2.0",
         null,
         "Non-Hispanic White",
         "Non-Hispanic White",
         null,
         null,
         null,
         null,
         "4",
         "4",
         "2",
         "0",
         "0",
         "100000.0",
         "100000.0",
         "5.0",
         null,
         null,
         null,
         null,
         "0.0",
         null,
         null,
         null,
         null,
         null,
         "1230.0",
         "51.580000000000005",
         "160.46",
         "76.97000000000001",
         "5.9",
         "43.24000000000001",
         "11.372",
         "14.332999999999998",
         "12.506",
         "144.0",
         "5.397605346934028e-79",
         "0.0",
         "0",
         null,
         null,
         null,
         null,
         "0.0",
         null,
         null,
         null,
         null,
         null,
         null,
         null,
         null,
         null,
         null,
         null,
         null,
         null,
         null,
         null,
         null
        ],
        [
         "2",
         "93705.0",
         "Good",
         null,
         null,
         null,
         null,
         null,
         null,
         null,
         null,
         null,
         null,
         null,
         null,
         "Good",
         "Sometimes-once a week or more but less than once a day or",
         null,
         null,
         null,
         null,
         null,
         "30.0",
         "{My/His/Her} milk drinking has varied over {my/his/her} life-sometimes {I've/he's/she's} been a regular milk drinker",
         "Often-once a day or more",
         "Sometimes-once a week or more but less than once a day",
         "Sometimes-once a week or more but less than once a day",
         "0.0",
         "0.0",
         null,
         null,
         null,
         null,
         null,
         null,
         null,
         null,
         "5.0",
         "5.397605346934028e-79",
         "5.397605346934028e-79",
         "5.397605346934028e-79",
         "0.0",
         null,
         null,
         "1.0",
         "0.0",
         "1.0",
         "0.0",
         "0.0",
         "0.0",
         "0.0",
         "0.0",
         "0.0",
         "0.0",
         "1.0",
         "0.0",
         "1.0",
         "0.0",
         "1.0",
         "b'23:00'",
         "b'07:00'",
         "8.0",
         "Occasionally - 3-4 nights a week",
         "0.0",
         "Never",
         "0.0",
         "0.0",
         "0.0",
         "0.0",
         "0.0",
         "0.0",
         "0.0",
         "0.0",
         "0.0",
         null,
         "0.0",
         null,
         null,
         "0.0",
         "0.0",
         "0.0",
         "No difficulty",
         null,
         "52.0",
         null,
         null,
         null,
         null,
         "202.0",
         "62.0",
         "1235.0",
         "38.52",
         "147.49",
         "43.040000000000006",
         "13.1",
         "55.19",
         "14.079",
         "19.882",
         "17.072",
         "402.0",
         "5.397605346934028e-79",
         "79.5",
         null,
         "158.3",
         "31.7",
         "101.8",
         "60.0",
         "157.0",
         "0.0",
         "0.0",
         "0.0",
         "0.0",
         "1.0",
         "300.0",
         "1.0",
         "1.0",
         "0.0",
         null,
         "0.0",
         null,
         "0.0",
         null,
         null,
         null,
         null,
         "0.0",
         null,
         null,
         null,
         null,
         null,
         null,
         null,
         "2.98",
         "0.24",
         "1.07",
         "185.71",
         "8.57",
         "Female",
         "66.0",
         null,
         "Non-Hispanic Black",
         "Non-Hispanic Black",
         "0.0",
         null,
         "9-11th grade (Includes 12th grade with no diploma)",
         "Divorced",
         "1",
         "1",
         "0",
         "0",
         "1",
         "12500.0",
         "12500.0",
         "0.82",
         null,
         null,
         null,
         null,
         "0.0",
         null,
         null,
         null,
         null,
         null,
         "1202.0",
         "20.00999999999999",
         "157.45000000000002",
         "91.54999999999998",
         "8.4",
         "56.98",
         "16.435",
         "16.432",
         "19.786",
         "14.0",
         "5.397605346934028e-79",
         null,
         "0",
         null,
         "0.0",
         "0.0",
         null,
         "0.0",
         null,
         null,
         "6.2",
         "1.0",
         "16.0",
         "Not at all",
         null,
         null,
         null,
         null,
         null,
         null,
         "63.0",
         "165.0",
         "0.0",
         "11 times or more"
        ],
        [
         "3",
         "93706.0",
         "Very good",
         null,
         null,
         null,
         null,
         null,
         null,
         null,
         null,
         null,
         null,
         null,
         null,
         "Very good",
         "Never",
         null,
         null,
         null,
         null,
         null,
         null,
         null,
         null,
         null,
         null,
         null,
         null,
         "0.0",
         null,
         null,
         null,
         null,
         null,
         null,
         null,
         "6.0",
         "3.0",
         "5.397605346934028e-79",
         "5.397605346934028e-79",
         "0.0",
         null,
         null,
         "0.0",
         "1.0",
         "0.0",
         "1.0",
         "0.0",
         "0.0",
         "0.0",
         "0.0",
         "0.0",
         "0.0",
         "0.0",
         "0.0",
         "0.0",
         "0.0",
         "1.0",
         "b'23:30'",
         "b'10:00'",
         "10.5",
         "Rarely - 1-2 nights a week",
         "0.0",
         "Rarely - 1 time a month",
         "0.0",
         "0.0",
         "0.0",
         "0.0",
         "0.0",
         "0.0",
         "0.0",
         "0.0",
         "0.0",
         null,
         "0.0",
         null,
         null,
         "0.0",
         null,
         null,
         null,
         null,
         "82.0",
         "112.0",
         "74.0",
         "114.0",
         "70.0",
         "108.0",
         "76.0",
         null,
         null,
         null,
         null,
         null,
         null,
         null,
         null,
         null,
         null,
         null,
         "66.3",
         null,
         "175.7",
         "21.5",
         "79.3",
         "47.0",
         "148.0",
         "0.0",
         "0.0",
         "1.0",
         "0.0",
         "1.0",
         "240.0",
         "0.0",
         null,
         null,
         null,
         null,
         null,
         null,
         null,
         null,
         "0.0",
         null,
         "0.0",
         null,
         null,
         null,
         null,
         null,
         null,
         null,
         "0.74",
         "0.21",
         "10.64",
         "199.44",
         "14.07",
         "Male",
         "18.0",
         null,
         "Other Race - Including Multi-Racial",
         "Non-Hispanic Asian",
         "0.0",
         "More than high school",
         null,
         null,
         "5",
         "5",
         "0",
         "0",
         "1",
         null,
         null,
         null,
         "6358.9",
         "20.9",
         "22.7",
         "Rarely",
         "0.0",
         null,
         null,
         null,
         null,
         null,
         "1987.0",
         "94.19",
         "89.82000000000001",
         "14.729999999999997",
         "7.1000000000000005",
         "137.39",
         "35.169",
         "45.80499999999999",
         "49.873000000000005",
         "462.0",
         "5.397605346934028e-79",
         "0.0",
         "0",
         null,
         "0.0",
         "0.0",
         null,
         "0.0",
         null,
         null,
         "5.2",
         "0.0",
         null,
         null,
         null,
         null,
         null,
         null,
         null,
         null,
         "68.0",
         "145.0",
         "0.0",
         "Never"
        ],
        [
         "4",
         "93707.0",
         "Good",
         null,
         null,
         null,
         null,
         null,
         null,
         null,
         null,
         null,
         null,
         null,
         null,
         null,
         "Never",
         null,
         null,
         null,
         null,
         null,
         null,
         null,
         null,
         null,
         null,
         null,
         null,
         "1.0",
         "1.0",
         "5.0",
         "Reduced price",
         "1.0",
         "5.0",
         "Reduced price",
         "Did not attend summer program",
         "1.0",
         "1.0",
         "6.0",
         "4.0",
         null,
         null,
         null,
         null,
         null,
         null,
         null,
         "0.0",
         "0.0",
         "0.0",
         "0.0",
         "0.0",
         null,
         null,
         null,
         null,
         null,
         "1.0",
         null,
         null,
         null,
         null,
         null,
         null,
         null,
         null,
         null,
         null,
         null,
         null,
         null,
         null,
         null,
         null,
         "0.0",
         null,
         null,
         "0.0",
         null,
         null,
         null,
         null,
         "100.0",
         "128.0",
         "38.0",
         "128.0",
         "46.0",
         "128.0",
         "58.0",
         "1794.0",
         "92.03",
         "153.12",
         "85.81",
         "7.899999999999999",
         "93.98",
         "31.098",
         "35.404999999999994",
         "17.826999999999998",
         "656.0",
         "5.397605346934028e-79",
         "45.4",
         null,
         "158.4",
         "18.1",
         "64.1",
         "68.0",
         "189.0",
         null,
         null,
         null,
         null,
         null,
         null,
         "0.0",
         null,
         null,
         null,
         null,
         null,
         null,
         null,
         null,
         null,
         null,
         null,
         null,
         null,
         null,
         null,
         null,
         null,
         null,
         "0.39",
         "0.14",
         "0.2",
         "179.34",
         "12.6",
         "Male",
         "13.0",
         null,
         "Other Race - Including Multi-Racial",
         "Other Race - Including Multi-Racial",
         null,
         "6th grade",
         null,
         null,
         "7 or more people in the Household",
         "7 or more people in the Family",
         "0",
         "3 or more",
         "0",
         "70000.0",
         "70000.0",
         "1.88",
         "2972.8",
         "15.7",
         "19.0",
         null,
         "0.0",
         null,
         null,
         null,
         null,
         null,
         "1775.0",
         "59.48",
         "188.15",
         "84.22",
         "10.9",
         "89.18",
         "33.252",
         "33.712",
         "12.423999999999998",
         "585.0",
         "5.397605346934028e-79",
         null,
         "0",
         null,
         "0.0",
         "0.0",
         null,
         "0.0",
         null,
         null,
         "5.6",
         null,
         null,
         null,
         null,
         null,
         null,
         null,
         null,
         null,
         null,
         null,
         null,
         null
        ]
       ],
       "shape": {
        "columns": 198,
        "rows": 5
       }
      },
      "text/html": [
       "<div>\n",
       "<style scoped>\n",
       "    .dataframe tbody tr th:only-of-type {\n",
       "        vertical-align: middle;\n",
       "    }\n",
       "\n",
       "    .dataframe tbody tr th {\n",
       "        vertical-align: top;\n",
       "    }\n",
       "\n",
       "    .dataframe thead th {\n",
       "        text-align: right;\n",
       "    }\n",
       "</style>\n",
       "<table border=\"1\" class=\"dataframe\">\n",
       "  <thead>\n",
       "    <tr style=\"text-align: right;\">\n",
       "      <th></th>\n",
       "      <th>SEQN</th>\n",
       "      <th>GeneralHealthCondition</th>\n",
       "      <th>EverBreastfedOrFedBreastmilk</th>\n",
       "      <th>AgeStoppedBreastfeedingdays</th>\n",
       "      <th>AgeFirstFedFormuladays</th>\n",
       "      <th>AgeStoppedReceivingFormuladays</th>\n",
       "      <th>AgeStartedOtherFoodbeverage</th>\n",
       "      <th>AgeFirstFedMilkdays</th>\n",
       "      <th>TypeOfMilkFirstFedWholeMilk</th>\n",
       "      <th>TypeOfMilkFirstFed2Milk</th>\n",
       "      <th>...</th>\n",
       "      <th>DaysSmokedCigsDuringPast30Days</th>\n",
       "      <th>AvgCigarettesdayDuringPast30Days</th>\n",
       "      <th>TriedToQuitSmoking</th>\n",
       "      <th>TimesStoppedSmokingCigarettes</th>\n",
       "      <th>HowLongWereYouAbleToStopSmoking</th>\n",
       "      <th>UnitOfMeasureDayweekmonthyear_2_SMQ</th>\n",
       "      <th>CurrentSelfreportedHeightInches</th>\n",
       "      <th>CurrentSelfreportedWeightPounds</th>\n",
       "      <th>TriedToLoseWeightInPastYear</th>\n",
       "      <th>TimesLost10LbsOrMoreToLoseWeight</th>\n",
       "    </tr>\n",
       "  </thead>\n",
       "  <tbody>\n",
       "    <tr>\n",
       "      <th>0</th>\n",
       "      <td>93703.0</td>\n",
       "      <td>NaN</td>\n",
       "      <td>1.0</td>\n",
       "      <td>273.0</td>\n",
       "      <td>1.0</td>\n",
       "      <td>365.0</td>\n",
       "      <td>152.0</td>\n",
       "      <td>365.0</td>\n",
       "      <td>Whole or regular milk</td>\n",
       "      <td>NaN</td>\n",
       "      <td>...</td>\n",
       "      <td>NaN</td>\n",
       "      <td>NaN</td>\n",
       "      <td>NaN</td>\n",
       "      <td>NaN</td>\n",
       "      <td>NaN</td>\n",
       "      <td>NaN</td>\n",
       "      <td>NaN</td>\n",
       "      <td>NaN</td>\n",
       "      <td>NaN</td>\n",
       "      <td>NaN</td>\n",
       "    </tr>\n",
       "    <tr>\n",
       "      <th>1</th>\n",
       "      <td>93704.0</td>\n",
       "      <td>NaN</td>\n",
       "      <td>1.0</td>\n",
       "      <td>60.0</td>\n",
       "      <td>3.0</td>\n",
       "      <td>365.0</td>\n",
       "      <td>126.0</td>\n",
       "      <td>365.0</td>\n",
       "      <td>Whole or regular milk</td>\n",
       "      <td>NaN</td>\n",
       "      <td>...</td>\n",
       "      <td>NaN</td>\n",
       "      <td>NaN</td>\n",
       "      <td>NaN</td>\n",
       "      <td>NaN</td>\n",
       "      <td>NaN</td>\n",
       "      <td>NaN</td>\n",
       "      <td>NaN</td>\n",
       "      <td>NaN</td>\n",
       "      <td>NaN</td>\n",
       "      <td>NaN</td>\n",
       "    </tr>\n",
       "    <tr>\n",
       "      <th>2</th>\n",
       "      <td>93705.0</td>\n",
       "      <td>Good</td>\n",
       "      <td>NaN</td>\n",
       "      <td>NaN</td>\n",
       "      <td>NaN</td>\n",
       "      <td>NaN</td>\n",
       "      <td>NaN</td>\n",
       "      <td>NaN</td>\n",
       "      <td>NaN</td>\n",
       "      <td>NaN</td>\n",
       "      <td>...</td>\n",
       "      <td>NaN</td>\n",
       "      <td>NaN</td>\n",
       "      <td>NaN</td>\n",
       "      <td>NaN</td>\n",
       "      <td>NaN</td>\n",
       "      <td>NaN</td>\n",
       "      <td>63.0</td>\n",
       "      <td>165.0</td>\n",
       "      <td>0.0</td>\n",
       "      <td>11 times or more</td>\n",
       "    </tr>\n",
       "    <tr>\n",
       "      <th>3</th>\n",
       "      <td>93706.0</td>\n",
       "      <td>Very good</td>\n",
       "      <td>NaN</td>\n",
       "      <td>NaN</td>\n",
       "      <td>NaN</td>\n",
       "      <td>NaN</td>\n",
       "      <td>NaN</td>\n",
       "      <td>NaN</td>\n",
       "      <td>NaN</td>\n",
       "      <td>NaN</td>\n",
       "      <td>...</td>\n",
       "      <td>NaN</td>\n",
       "      <td>NaN</td>\n",
       "      <td>NaN</td>\n",
       "      <td>NaN</td>\n",
       "      <td>NaN</td>\n",
       "      <td>NaN</td>\n",
       "      <td>68.0</td>\n",
       "      <td>145.0</td>\n",
       "      <td>0.0</td>\n",
       "      <td>Never</td>\n",
       "    </tr>\n",
       "    <tr>\n",
       "      <th>4</th>\n",
       "      <td>93707.0</td>\n",
       "      <td>Good</td>\n",
       "      <td>NaN</td>\n",
       "      <td>NaN</td>\n",
       "      <td>NaN</td>\n",
       "      <td>NaN</td>\n",
       "      <td>NaN</td>\n",
       "      <td>NaN</td>\n",
       "      <td>NaN</td>\n",
       "      <td>NaN</td>\n",
       "      <td>...</td>\n",
       "      <td>NaN</td>\n",
       "      <td>NaN</td>\n",
       "      <td>NaN</td>\n",
       "      <td>NaN</td>\n",
       "      <td>NaN</td>\n",
       "      <td>NaN</td>\n",
       "      <td>NaN</td>\n",
       "      <td>NaN</td>\n",
       "      <td>NaN</td>\n",
       "      <td>NaN</td>\n",
       "    </tr>\n",
       "  </tbody>\n",
       "</table>\n",
       "<p>5 rows × 198 columns</p>\n",
       "</div>"
      ],
      "text/plain": [
       "      SEQN GeneralHealthCondition  EverBreastfedOrFedBreastmilk  \\\n",
       "0  93703.0                    NaN                           1.0   \n",
       "1  93704.0                    NaN                           1.0   \n",
       "2  93705.0                   Good                           NaN   \n",
       "3  93706.0              Very good                           NaN   \n",
       "4  93707.0                   Good                           NaN   \n",
       "\n",
       "   AgeStoppedBreastfeedingdays  AgeFirstFedFormuladays  \\\n",
       "0                        273.0                     1.0   \n",
       "1                         60.0                     3.0   \n",
       "2                          NaN                     NaN   \n",
       "3                          NaN                     NaN   \n",
       "4                          NaN                     NaN   \n",
       "\n",
       "   AgeStoppedReceivingFormuladays  AgeStartedOtherFoodbeverage  \\\n",
       "0                           365.0                        152.0   \n",
       "1                           365.0                        126.0   \n",
       "2                             NaN                          NaN   \n",
       "3                             NaN                          NaN   \n",
       "4                             NaN                          NaN   \n",
       "\n",
       "   AgeFirstFedMilkdays TypeOfMilkFirstFedWholeMilk  TypeOfMilkFirstFed2Milk  \\\n",
       "0                365.0       Whole or regular milk                      NaN   \n",
       "1                365.0       Whole or regular milk                      NaN   \n",
       "2                  NaN                         NaN                      NaN   \n",
       "3                  NaN                         NaN                      NaN   \n",
       "4                  NaN                         NaN                      NaN   \n",
       "\n",
       "   ...  DaysSmokedCigsDuringPast30Days  AvgCigarettesdayDuringPast30Days  \\\n",
       "0  ...                             NaN                               NaN   \n",
       "1  ...                             NaN                               NaN   \n",
       "2  ...                             NaN                               NaN   \n",
       "3  ...                             NaN                               NaN   \n",
       "4  ...                             NaN                               NaN   \n",
       "\n",
       "   TriedToQuitSmoking  TimesStoppedSmokingCigarettes  \\\n",
       "0                 NaN                            NaN   \n",
       "1                 NaN                            NaN   \n",
       "2                 NaN                            NaN   \n",
       "3                 NaN                            NaN   \n",
       "4                 NaN                            NaN   \n",
       "\n",
       "  HowLongWereYouAbleToStopSmoking UnitOfMeasureDayweekmonthyear_2_SMQ  \\\n",
       "0                             NaN                                 NaN   \n",
       "1                             NaN                                 NaN   \n",
       "2                             NaN                                 NaN   \n",
       "3                             NaN                                 NaN   \n",
       "4                             NaN                                 NaN   \n",
       "\n",
       "  CurrentSelfreportedHeightInches  CurrentSelfreportedWeightPounds  \\\n",
       "0                             NaN                              NaN   \n",
       "1                             NaN                              NaN   \n",
       "2                            63.0                            165.0   \n",
       "3                            68.0                            145.0   \n",
       "4                             NaN                              NaN   \n",
       "\n",
       "   TriedToLoseWeightInPastYear  TimesLost10LbsOrMoreToLoseWeight  \n",
       "0                          NaN                               NaN  \n",
       "1                          NaN                               NaN  \n",
       "2                          0.0                  11 times or more  \n",
       "3                          0.0                             Never  \n",
       "4                          NaN                               NaN  \n",
       "\n",
       "[5 rows x 198 columns]"
      ]
     },
     "execution_count": 9,
     "metadata": {},
     "output_type": "execute_result"
    }
   ],
   "source": [
    "import pandas as pd\n",
    "health = pd.read_csv('/Users/shaveen/DS 5030 Assignments/data/nhanes_data_17_18.csv')\n",
    "\n",
    "health.head()"
   ]
  },
  {
   "cell_type": "markdown",
   "id": "fa5cade1",
   "metadata": {},
   "source": [
    "5. Pick two or three variables and briefly analyze them\n",
    "    - Is it a categorical or numeric variable?\n",
    "    - How many missing values are there? (`df['var'].isna()` and `np.sum()`)\n",
    "    - If categorical, tabulate the values (`df['var'].value_counts()`) and if numeric, get a summary (`df['var'].describe()`)"
   ]
  },
  {
   "cell_type": "markdown",
   "id": "93db2880",
   "metadata": {},
   "source": [
    "**Variables:**\n",
    "* GeneralHealthCondition\n",
    "    * This is a categorical variable.\n",
    "* FeelingDownDepressedOrHopeless\n",
    "    * This is a categorical variable."
   ]
  },
  {
   "cell_type": "code",
   "execution_count": 27,
   "id": "0b01e460",
   "metadata": {},
   "outputs": [
    {
     "name": "stdout",
     "output_type": "stream",
     "text": [
      "2402\n",
      "3279\n"
     ]
    }
   ],
   "source": [
    "import numpy as np\n",
    "missing_values = np.sum(health['GeneralHealthCondition'].isna())\n",
    "print(missing_values)\n",
    "\n",
    "missing_values2 = np.sum(health['FeelingDownDepressedOrHopeless'].isna())\n",
    "print(missing_values2)\n"
   ]
  },
  {
   "cell_type": "code",
   "execution_count": 29,
   "id": "fcf692b8",
   "metadata": {},
   "outputs": [
    {
     "name": "stdout",
     "output_type": "stream",
     "text": [
      "GeneralHealthCondition\n",
      "Good         2454\n",
      "Very good    1544\n",
      "Fair or      1175\n",
      "Excellent     619\n",
      "Poor?         172\n",
      "Name: count, dtype: int64\n",
      "FeelingDownDepressedOrHopeless\n",
      "0.0    3865\n",
      "1.0     831\n",
      "2.0     224\n",
      "3.0     167\n",
      "Name: count, dtype: int64\n"
     ]
    }
   ],
   "source": [
    "tabulated = health['GeneralHealthCondition'].value_counts()\n",
    "summary = health['FeelingDownDepressedOrHopeless'].value_counts()\n",
    "\n",
    "print(tabulated)\n",
    "print(summary)"
   ]
  },
  {
   "cell_type": "markdown",
   "id": "dbf2318a",
   "metadata": {},
   "source": [
    "6. What are some questions and prediction tools you could create using these data? Who would the stakeholder be for that prediction tool? What practical or ethical questions would it create? What other data would you want, that are not available in your data?\n",
    "    \n",
    "    * This dataset allows you to explore how different factors relate to a person's health. For example, with the variables I selected, you could ask: does a correlation exist between depression/feelings of hopelessness and an indivdual's general health condition? The data also includes information on people's cancer and stroke history, drug use, income, weight changes (loss, gain, or attempts to gain), among many other factors.\n",
    "\n",
    "    * **Potential stakeholders:**\n",
    "        * Healthcare providers, public health organizations, patients and the general public, researchers, and insurance companies.\n",
    "\n",
    "    * **Pratical questions:**\n",
    "        * How reliable are predictions for different populations?\n",
    "        * What are interventions to address relationships that depict a negative affect on people's overall health.\n",
    "        * How can healthcare providers make use of this tool to support their patients?\n",
    "\n",
    "    * **Ethical questions:**\n",
    "        * How might health insurance companies abuse these predictions?\n",
    "        * Where is the data being collected from, and does it protect patient privacy?\n",
    "        * Could the tool reinforce negative stereotypes?\n",
    "\n",
    "    * In terms of other data, I would want geographic data to determine the relationship of health-related conditions and an individual's environment. I'd also want any data related to an individual's mental health history."
   ]
  },
  {
   "cell_type": "markdown",
   "id": "a4a7ddc7",
   "metadata": {},
   "source": [
    "7. Commit your work to the repo (`git commit -am 'Finish assignment'` at the command line, or use the Git panel in VS Code). Push your work back to Github and submit the link on Canvas in the assignment tab."
   ]
  }
 ],
 "metadata": {
  "kernelspec": {
   "display_name": "myenv",
   "language": "python",
   "name": "python3"
  },
  "language_info": {
   "codemirror_mode": {
    "name": "ipython",
    "version": 3
   },
   "file_extension": ".py",
   "mimetype": "text/x-python",
   "name": "python",
   "nbconvert_exporter": "python",
   "pygments_lexer": "ipython3",
   "version": "3.13.5"
  }
 },
 "nbformat": 4,
 "nbformat_minor": 5
}
